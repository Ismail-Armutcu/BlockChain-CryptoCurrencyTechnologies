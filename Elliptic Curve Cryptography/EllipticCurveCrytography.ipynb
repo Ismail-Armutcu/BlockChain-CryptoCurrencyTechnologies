{
  "nbformat": 4,
  "nbformat_minor": 0,
  "metadata": {
    "colab": {
      "provenance": [],
      "authorship_tag": "ABX9TyMemRPPsCd4B8rK7zZEyx4r",
      "include_colab_link": true
    },
    "kernelspec": {
      "name": "python3",
      "display_name": "Python 3"
    },
    "language_info": {
      "name": "python"
    }
  },
  "cells": [
    {
      "cell_type": "markdown",
      "metadata": {
        "id": "view-in-github",
        "colab_type": "text"
      },
      "source": [
        "<a href=\"https://colab.research.google.com/github/Ismail-Armutcu/BlockChain-CryptoCurrencyTechnologies/blob/main/Elliptic%20Curve%20Cryptography/EllipticCurveCrytography.ipynb\" target=\"_parent\"><img src=\"https://colab.research.google.com/assets/colab-badge.svg\" alt=\"Open In Colab\"/></a>"
      ]
    },
    {
      "cell_type": "markdown",
      "source": [
        "# **CSES 519 Blockchain and CryptoCurrency Technologies**\n",
        "## **Elliptic Curve Cryptography**\n",
        "- İSMAİL HAKKI ARMUTCU\n",
        "- 2374395"
      ],
      "metadata": {
        "id": "J71jPR3pZYOX"
      }
    },
    {
      "cell_type": "markdown",
      "source": [
        "## **Note that the point at infinity is represented as \"None\" throughout this notebook**"
      ],
      "metadata": {
        "id": "LSbECE6hZrsX"
      }
    },
    {
      "cell_type": "markdown",
      "source": [
        "## Finding the points in Elliptic Curve"
      ],
      "metadata": {
        "id": "AS7KUNlVcGfX"
      }
    },
    {
      "cell_type": "code",
      "source": [
        "def pointsOnCurve(a=1,b=2,p=13): #Find all the numbers in Elliptic curve: y^2 = x^3+ax+b over Fp\n",
        "  modulo_squares = [] ## List of modulo squares over p\n",
        "  y_squares = []      ## List of y^2 s\n",
        "  point_on_curve = []\n",
        "  for x in range(p):\n",
        "    modulo_squares.append((x, x**2%p))\n",
        "    y_squares.append((x, (x**3+a*x+b) % p))\n",
        "\n",
        "  for y in y_squares:\n",
        "    for m in modulo_squares:\n",
        "      if(y[1] == m[1]):\n",
        "        point_on_curve.append((y[0],m[0]))\n",
        "      else:\n",
        "        continue\n",
        "  point_on_curve.append(None)\n",
        "  return point_on_curve"
      ],
      "metadata": {
        "id": "PHdWvwI0aFCL"
      },
      "execution_count": 41,
      "outputs": []
    },
    {
      "cell_type": "markdown",
      "source": [
        "## Number of points on curve: y^2 = x^3 + x + 2 over F13"
      ],
      "metadata": {
        "id": "XlC8bjotbj8l"
      }
    },
    {
      "cell_type": "code",
      "source": [
        "points_on_curve = pointsOnCurve(1,2,13)\n",
        "print(\"Number of points:\",len(points_on_curve))\n",
        "print(\"Points on Curve\",points_on_curve)"
      ],
      "metadata": {
        "colab": {
          "base_uri": "https://localhost:8080/"
        },
        "id": "MNveAqTHb76M",
        "outputId": "c67bb9b0-09fc-4960-be27-f578f189a6ec"
      },
      "execution_count": 42,
      "outputs": [
        {
          "output_type": "stream",
          "name": "stdout",
          "text": [
            "Number of points: 12\n",
            "Points on Curve [(1, 2), (1, 11), (2, 5), (2, 8), (6, 4), (6, 9), (7, 1), (7, 12), (9, 5), (9, 8), (12, 0), None]\n"
          ]
        }
      ]
    },
    {
      "cell_type": "markdown",
      "source": [
        "## Adding two points in a curve"
      ],
      "metadata": {
        "id": "80tcYlWkeaNT"
      }
    },
    {
      "cell_type": "code",
      "source": [
        "def valid(a=1,b=2,p=13,point=(6,4)): ## Check if the given point is on Elliptic curve\n",
        "  (x,y) = point\n",
        "  return(((y**2 % p)-(x**3+a*x+b)%p == 0) and (0 <= x < p and 0<= y <p ))\n",
        "\n",
        "\n",
        "def inverse(x,p): ## 1/x ---> (x^(p-2)) %13) where p is Fp\n",
        "  if x%p == 0:\n",
        "    raise ZeroDivisionError(\"Inverse Error\")\n",
        "  else:\n",
        "    return pow(x,p-2,p)\n",
        "\n",
        "\n",
        "def inverse_point(point = (6,4),p = 13): ## Inverse of a point (x,y) is (x,-y % p)\n",
        "  return (point[0],(-point[1]) %p)\n",
        "\n",
        "def add_points(a=1,b=2,p=13,p1=(6,4),p2=(6,4)):  ## Add points p1 and p2 in elliptic curve y^2 = x^3 + ax + b over Fp\n",
        "\n",
        "  if(not (valid(a,b,p,p1) and valid(a,b,p,p2))): #If the points are not in curve raise error\n",
        "    raise ValueError(\"Invalid Points not on curve\")\n",
        "  if p1 == inverse_point(p2,p): ## If two points are inverse of each other result is Point at Infinity\n",
        "    return None\n",
        "  elif p1 == p2: # Two points are the same\n",
        "    (x1,y1) = p1\n",
        "    num = (3*p1[0]**2+a)* inverse(2*p1[1],p) # a / b = a* (inverse(b))\n",
        "    x3 = (num**2 -2*x1)%p\n",
        "    y3 = (num*(x1-x3)-y1)%p\n",
        "    return(x3,y3)\n",
        "  else:           # Two different points\n",
        "    (x1,y1) = p1\n",
        "    (x2,y2) = p2\n",
        "    num = (y2-y1)*inverse(x2-x1,p)\n",
        "    x3 = (num**2-x1-x2)%p\n",
        "    y3 = (num*(x1-x3)-y1)%p\n",
        "    return(x3,y3)\n"
      ],
      "metadata": {
        "id": "unYDP4QQec_G"
      },
      "execution_count": 43,
      "outputs": []
    },
    {
      "cell_type": "markdown",
      "source": [
        "## Finding the Generator for an Elliptic Curve"
      ],
      "metadata": {
        "id": "uHbGwm06a3Dz"
      }
    },
    {
      "cell_type": "code",
      "source": [
        "def generatePoints(a=1,b=2,p=13,point = (6,4)): ## Generate points by adding a point to itself\n",
        "  generatedPoints = []\n",
        "  generated = point\n",
        "  while(True):\n",
        "    generated = add_points(a,b,p,point,generated)\n",
        "    generatedPoints.append(generated)\n",
        "    if(generated == None): ## Stop when point at infinity is reached\n",
        "      break\n",
        "  return generatedPoints\n",
        "\n",
        "\n",
        "\n",
        "def findGenerator(a=1,b=2,p=13): ## Find the generator of a given elliptic Curve.\n",
        "  pointsInCurve = pointsOnCurve(a,b,p)\n",
        "  pointsInCurve.pop(pointsInCurve.index(None)) #  Exclude point at infinity\n",
        "  generator = None\n",
        "  generatedPoints = []\n",
        "  max = 0\n",
        "  for point in pointsInCurve: ## Find the point that generates most points\n",
        "    tempPoints = generatePoints(a,b,p,point)\n",
        "    if(len(tempPoints) > max):\n",
        "      max = len(tempPoints)\n",
        "      generator = point\n",
        "      generatedPoints = tempPoints\n",
        "\n",
        "  return generator,generatedPoints\n",
        "\n",
        "\n"
      ],
      "metadata": {
        "id": "3sdHWjk2a8b6"
      },
      "execution_count": 44,
      "outputs": []
    },
    {
      "cell_type": "markdown",
      "source": [
        "## Finding a generator for the Elliptic curve y^2 = x^3 +x+2 over F13"
      ],
      "metadata": {
        "id": "3wuFY9zegXEd"
      }
    },
    {
      "cell_type": "code",
      "source": [
        "a = 1\n",
        "b = 2\n",
        "p = 13\n",
        "\n",
        "generator,generatedPoints = findGenerator(a,b,p)\n",
        "print(\"Generator Point:\", generator)\n",
        "output = []\n",
        "output.append(generator)\n",
        "\n",
        "for p in generatedPoints:\n",
        "  output.append('->')\n",
        "  output.append(p)\n",
        "print(\"Generated Points:\",output)"
      ],
      "metadata": {
        "colab": {
          "base_uri": "https://localhost:8080/"
        },
        "id": "AMzKxybbggGb",
        "outputId": "d84ada7b-d562-4b22-dab1-2754b3818373"
      },
      "execution_count": 45,
      "outputs": [
        {
          "output_type": "stream",
          "name": "stdout",
          "text": [
            "Generator Point: (6, 4)\n",
            "Generated Points: [(6, 4), '->', (2, 5), '->', (1, 11), '->', (9, 8), '->', (7, 12), '->', (12, 0), '->', (7, 1), '->', (9, 5), '->', (1, 2), '->', (2, 8), '->', (6, 9), '->', None]\n"
          ]
        }
      ]
    }
  ]
}