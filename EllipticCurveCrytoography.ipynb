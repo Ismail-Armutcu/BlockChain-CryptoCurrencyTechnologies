{
  "nbformat": 4,
  "nbformat_minor": 0,
  "metadata": {
    "colab": {
      "provenance": [],
      "authorship_tag": "ABX9TyNwCIFjcHDBPL5RBHv842+Q",
      "include_colab_link": true
    },
    "kernelspec": {
      "name": "python3",
      "display_name": "Python 3"
    },
    "language_info": {
      "name": "python"
    }
  },
  "cells": [
    {
      "cell_type": "markdown",
      "metadata": {
        "id": "view-in-github",
        "colab_type": "text"
      },
      "source": [
        "<a href=\"https://colab.research.google.com/github/Ismail-Armutcu/BlockChain-CryptoCurrencyTechnologies/blob/main/EllipticCurveCrytoography.ipynb\" target=\"_parent\"><img src=\"https://colab.research.google.com/assets/colab-badge.svg\" alt=\"Open In Colab\"/></a>"
      ]
    },
    {
      "cell_type": "code",
      "execution_count": 124,
      "metadata": {
        "colab": {
          "base_uri": "https://localhost:8080/",
          "height": 194
        },
        "id": "WUyEtQiQ-RFx",
        "outputId": "c25eb099-281a-460a-cac2-d86b7b48fec8"
      },
      "outputs": [
        {
          "output_type": "stream",
          "name": "stdout",
          "text": [
            "Points on the curve y^3 = x^3+ 1 x+ 2  over F 13 are:\n",
            "[(1, 2), (1, 11), (2, 5), (2, 8), (6, 4), (6, 9), (7, 1), (7, 12), (9, 5), (9, 8), (12, 0)]\n",
            "Total Number of Points:  11\n",
            "Points on the curve y^3 = x^3+ 1 x+ 4  over F 23 are:\n",
            "[(0, 2), (0, 21), (1, 11), (1, 12), (4, 7), (4, 16), (7, 3), (7, 20), (8, 8), (8, 15), (9, 11), (9, 12), (10, 5), (10, 18), (11, 9), (11, 14), (13, 11), (13, 12), (14, 5), (14, 18), (15, 6), (15, 17), (17, 9), (17, 14), (18, 9), (18, 14), (22, 5), (22, 18)]\n",
            "Total Number of Points:  28\n",
            "Generator Point: (0, 2)\n",
            "Generated Points: [(13, 12), (11, 9), (1, 12), (7, 20), (9, 11), (15, 6), (14, 5), (4, 7), (22, 5), (10, 5), (17, 9), (8, 15), (18, 9), (18, 14), (8, 8), (17, 14), (10, 18), (22, 18), (4, 16), (14, 18), (15, 17), (9, 12), (7, 3), (1, 11), (11, 14), (13, 11), (0, 21), None]\n"
          ]
        },
        {
          "output_type": "execute_result",
          "data": {
            "text/plain": [
              "'for p in points:\\n  other = []\\n  print(\"Point\",p)\\n  print(\"PRoduces\",generatePoints(1,2,13,p))\\n  print(len(generatePoints(1,2,13,p)))'"
            ],
            "application/vnd.google.colaboratory.intrinsic+json": {
              "type": "string"
            }
          },
          "metadata": {},
          "execution_count": 124
        }
      ],
      "source": [
        "\n",
        "\n",
        "\n",
        "def pointsOnCurve(a=1,b=2,p=13): #y^2 = x^3+ax+b over Fp\n",
        "  modulo_squares = []\n",
        "  y_squares = []\n",
        "  point_on_curve = []\n",
        "  for x in range(p):\n",
        "    modulo_squares.append((x,x**2%p))\n",
        "    y_squares.append((x, (x**3+a*x+b) % p))\n",
        "\n",
        "  for y in y_squares:\n",
        "    for m in modulo_squares:\n",
        "\n",
        "      if(y[1] == m[1]):\n",
        "        point_on_curve.append((y[0],m[0]))\n",
        "  print(\"Points on the curve y^3 = x^3+\",a,\"x+\",b,\" over F\",p,\"are:\")\n",
        "  print(point_on_curve)\n",
        "  print(\"Total Number of Points: \",len(point_on_curve))\n",
        "  return point_on_curve\n",
        "\n",
        "\n",
        "\n",
        "def inverse(x,p):\n",
        "  if x%p == 0:\n",
        "    raise ZeroDivisionError(\"Inverse Error\")\n",
        "  else:\n",
        "    return pow(x,p-2,p)\n",
        "def inverse_point(point):\n",
        "  return (point[0],-point[1])\n",
        "\n",
        "def valid(a,b,p,point):\n",
        "  x = point[0]\n",
        "  y = point[1]\n",
        "  return(((y**2 % p)-(x**3+a*x+b)%p == 0) and (0 <= x < p and 0<= y <p ))\n",
        "\n",
        "def add_points(a=1,b=2,p=13,p1=(6,4),p2=(6,4)):\n",
        "  if(not (valid(a,b,p,p1) and valid(a,b,p,p2))):\n",
        "    print(p1,p2)\n",
        "    raise ValueError(\"Invalid Points not on curve\")\n",
        "  if p1 == inverse_point(p2):\n",
        "    return None\n",
        "  elif p1 == p2:\n",
        "    (x1,y1) = p1\n",
        "    num = (3*p1[0]**2+a)* inverse(2*p1[1],p)\n",
        "    x3 = (num**2 -2*x1)%p\n",
        "    y3 = (num*(x1-x3)-y1)%p\n",
        "    return(x3,y3)\n",
        "  else:\n",
        "    (x1,y1) = p1\n",
        "    (x2,y2) = p2\n",
        "    if(x1 == x2):\n",
        "      return None\n",
        "    num = (y2-y1)*inverse(x2-x1,p)\n",
        "    x3 = (num**2-x1-x2)%p\n",
        "    y3 = (num*(x1-x3)-y1)%p\n",
        "    return(x3,y3)\n",
        "\n",
        "def generatePoints(a=1,b=2,p=13,point = (6,4)):\n",
        "  generatedPoints = []\n",
        "  generated = point\n",
        "  while(True):\n",
        "    generated = add_points(a,b,p,point,generated)\n",
        "    generatedPoints.append(generated)\n",
        "    if(generated == None):\n",
        "      break\n",
        "  return generatedPoints\n",
        "\n",
        "\n",
        "\n",
        "points = pointsOnCurve()\n",
        "\n",
        "def findGenerator(a=1,b=2,p=13):\n",
        "  pointsInCurve = pointsOnCurve(a,b,p)\n",
        "  generator = None\n",
        "  generatedPoints = []\n",
        "  max = 0\n",
        "  for point in pointsInCurve:\n",
        "    tempPoints = generatePoints(a,b,p,point)\n",
        "    if(len(tempPoints) > max):\n",
        "      max = len(tempPoints)\n",
        "      generator = point\n",
        "      generatedPoints = tempPoints\n",
        "  print(\"Generator Point:\", generator)\n",
        "  print(\"Generated Points:\",generatedPoints)\n",
        "\n",
        "  return generator,generatedPoints\n",
        "\n",
        "\n",
        "findGenerator(1,4,23)\n",
        "\n",
        "\n",
        "\"\"\"for p in points:\n",
        "  other = []\n",
        "  print(\"Point\",p)\n",
        "  print(\"PRoduces\",generatePoints(1,2,13,p))\n",
        "  print(len(generatePoints(1,2,13,p)))\"\"\"\n",
        "\n",
        "\n"
      ]
    }
  ]
}